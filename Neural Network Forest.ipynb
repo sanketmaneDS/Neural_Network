{
 "cells": [
  {
   "cell_type": "markdown",
   "id": "28a51a2e",
   "metadata": {},
   "source": [
    "# PREDICT THE BURNED AREA OF FOREST FIRES WITH NEURAL NETWORKS"
   ]
  },
  {
   "cell_type": "markdown",
   "id": "5dd90caf",
   "metadata": {},
   "source": [
    "## Attributes:\n",
    "month month of the year: 'jan' to 'dec'\n",
    "\n",
    "day :: day of the week: 'mon' to 'sun'\n",
    "\n",
    "FFMC ::FFMC index from the FWI system: 18.7 to 96.20\n",
    "\n",
    "DMC :: DMC index from the FWI system: 1.1 to 291.3\n",
    "\n",
    "DC ::DC index from the FWI system: 7.9 to 860.6\n",
    "\n",
    "ISI ::ISI index from the FWI system: 0.0 to 56.10\n",
    "\n",
    "temp:: temperature in Celsius degrees: 2.2 to 33.30\n",
    "\n",
    "RH ::relative humidity in %: 15.0 to 100\n",
    "\n",
    "wind ::wind speed in km/h: 0.40 to 9.40\n",
    "\n",
    "rain ::outside rain in mm/m2 : 0.0 to 6.4\n",
    "\n",
    "Size_Categorie the burned area of the forest ( Small , Large)"
   ]
  },
  {
   "cell_type": "markdown",
   "id": "4b4f7ae2",
   "metadata": {},
   "source": [
    "## Artificial neural networks (ANNs)\n",
    "    are a subset of machine learning and are at the heart of deep learning algorithms. Their name and structure are inspired by the human brain, mimicking the way that biological neurons signal to one another.\n",
    "Artificial neural networks (ANNs) are comprised of a node layers, containing an input layer, one or more hidden layers, and an output layer. Each node, or artificial neuron, connects to another and has an associated weight and threshold. If the output of any individual node is above the specified threshold value, that node is activated, sending data to the next layer of the network. Otherwise, no data is passed along to the next layer of the network."
   ]
  },
  {
   "cell_type": "code",
   "execution_count": 1,
   "id": "f0a366b4",
   "metadata": {
    "ExecuteTime": {
     "end_time": "2022-11-15T11:31:08.103246Z",
     "start_time": "2022-11-15T11:31:03.959391Z"
    }
   },
   "outputs": [],
   "source": [
    "# Importing Libraries\n",
    "import pandas as pd\n",
    "import numpy as np\n",
    "import matplotlib.pyplot as plt\n",
    "import seaborn as sns\n",
    "\n",
    "from sklearn.preprocessing import StandardScaler, LabelEncoder\n",
    "from sklearn.metrics import mean_squared_error\n",
    "from sklearn.model_selection import GridSearchCV, KFold, cross_val_score, train_test_split\n",
    "\n",
    "import warnings\n",
    "warnings.filterwarnings('ignore')\n",
    "\n",
    "from keras.optimizers import Adam\n",
    "from tensorflow.keras import layers\n",
    "from tensorflow import keras\n",
    "from keras.models import Sequential\n",
    "from keras.layers import Dense\n",
    "from keras.layers import Dropout\n",
    "\n",
    "from keras.wrappers.scikit_learn import KerasRegressor, KerasClassifier\n",
    "from sklearn.feature_selection import SelectKBest\n",
    "from sklearn.feature_selection import mutual_info_regression  \n"
   ]
  },
  {
   "cell_type": "code",
   "execution_count": 2,
   "id": "be66ff7e",
   "metadata": {
    "ExecuteTime": {
     "end_time": "2022-11-15T11:31:08.132343Z",
     "start_time": "2022-11-15T11:31:08.103246Z"
    }
   },
   "outputs": [
    {
     "data": {
      "text/html": [
       "<div>\n",
       "<style scoped>\n",
       "    .dataframe tbody tr th:only-of-type {\n",
       "        vertical-align: middle;\n",
       "    }\n",
       "\n",
       "    .dataframe tbody tr th {\n",
       "        vertical-align: top;\n",
       "    }\n",
       "\n",
       "    .dataframe thead th {\n",
       "        text-align: right;\n",
       "    }\n",
       "</style>\n",
       "<table border=\"1\" class=\"dataframe\">\n",
       "  <thead>\n",
       "    <tr style=\"text-align: right;\">\n",
       "      <th></th>\n",
       "      <th>month</th>\n",
       "      <th>day</th>\n",
       "      <th>FFMC</th>\n",
       "      <th>DMC</th>\n",
       "      <th>DC</th>\n",
       "      <th>ISI</th>\n",
       "      <th>temp</th>\n",
       "      <th>RH</th>\n",
       "      <th>wind</th>\n",
       "      <th>rain</th>\n",
       "      <th>...</th>\n",
       "      <th>monthfeb</th>\n",
       "      <th>monthjan</th>\n",
       "      <th>monthjul</th>\n",
       "      <th>monthjun</th>\n",
       "      <th>monthmar</th>\n",
       "      <th>monthmay</th>\n",
       "      <th>monthnov</th>\n",
       "      <th>monthoct</th>\n",
       "      <th>monthsep</th>\n",
       "      <th>size_category</th>\n",
       "    </tr>\n",
       "  </thead>\n",
       "  <tbody>\n",
       "    <tr>\n",
       "      <th>0</th>\n",
       "      <td>mar</td>\n",
       "      <td>fri</td>\n",
       "      <td>86.2</td>\n",
       "      <td>26.2</td>\n",
       "      <td>94.3</td>\n",
       "      <td>5.1</td>\n",
       "      <td>8.2</td>\n",
       "      <td>51</td>\n",
       "      <td>6.7</td>\n",
       "      <td>0.0</td>\n",
       "      <td>...</td>\n",
       "      <td>0</td>\n",
       "      <td>0</td>\n",
       "      <td>0</td>\n",
       "      <td>0</td>\n",
       "      <td>1</td>\n",
       "      <td>0</td>\n",
       "      <td>0</td>\n",
       "      <td>0</td>\n",
       "      <td>0</td>\n",
       "      <td>small</td>\n",
       "    </tr>\n",
       "    <tr>\n",
       "      <th>1</th>\n",
       "      <td>oct</td>\n",
       "      <td>tue</td>\n",
       "      <td>90.6</td>\n",
       "      <td>35.4</td>\n",
       "      <td>669.1</td>\n",
       "      <td>6.7</td>\n",
       "      <td>18.0</td>\n",
       "      <td>33</td>\n",
       "      <td>0.9</td>\n",
       "      <td>0.0</td>\n",
       "      <td>...</td>\n",
       "      <td>0</td>\n",
       "      <td>0</td>\n",
       "      <td>0</td>\n",
       "      <td>0</td>\n",
       "      <td>0</td>\n",
       "      <td>0</td>\n",
       "      <td>0</td>\n",
       "      <td>1</td>\n",
       "      <td>0</td>\n",
       "      <td>small</td>\n",
       "    </tr>\n",
       "    <tr>\n",
       "      <th>2</th>\n",
       "      <td>oct</td>\n",
       "      <td>sat</td>\n",
       "      <td>90.6</td>\n",
       "      <td>43.7</td>\n",
       "      <td>686.9</td>\n",
       "      <td>6.7</td>\n",
       "      <td>14.6</td>\n",
       "      <td>33</td>\n",
       "      <td>1.3</td>\n",
       "      <td>0.0</td>\n",
       "      <td>...</td>\n",
       "      <td>0</td>\n",
       "      <td>0</td>\n",
       "      <td>0</td>\n",
       "      <td>0</td>\n",
       "      <td>0</td>\n",
       "      <td>0</td>\n",
       "      <td>0</td>\n",
       "      <td>1</td>\n",
       "      <td>0</td>\n",
       "      <td>small</td>\n",
       "    </tr>\n",
       "    <tr>\n",
       "      <th>3</th>\n",
       "      <td>mar</td>\n",
       "      <td>fri</td>\n",
       "      <td>91.7</td>\n",
       "      <td>33.3</td>\n",
       "      <td>77.5</td>\n",
       "      <td>9.0</td>\n",
       "      <td>8.3</td>\n",
       "      <td>97</td>\n",
       "      <td>4.0</td>\n",
       "      <td>0.2</td>\n",
       "      <td>...</td>\n",
       "      <td>0</td>\n",
       "      <td>0</td>\n",
       "      <td>0</td>\n",
       "      <td>0</td>\n",
       "      <td>1</td>\n",
       "      <td>0</td>\n",
       "      <td>0</td>\n",
       "      <td>0</td>\n",
       "      <td>0</td>\n",
       "      <td>small</td>\n",
       "    </tr>\n",
       "    <tr>\n",
       "      <th>4</th>\n",
       "      <td>mar</td>\n",
       "      <td>sun</td>\n",
       "      <td>89.3</td>\n",
       "      <td>51.3</td>\n",
       "      <td>102.2</td>\n",
       "      <td>9.6</td>\n",
       "      <td>11.4</td>\n",
       "      <td>99</td>\n",
       "      <td>1.8</td>\n",
       "      <td>0.0</td>\n",
       "      <td>...</td>\n",
       "      <td>0</td>\n",
       "      <td>0</td>\n",
       "      <td>0</td>\n",
       "      <td>0</td>\n",
       "      <td>1</td>\n",
       "      <td>0</td>\n",
       "      <td>0</td>\n",
       "      <td>0</td>\n",
       "      <td>0</td>\n",
       "      <td>small</td>\n",
       "    </tr>\n",
       "  </tbody>\n",
       "</table>\n",
       "<p>5 rows × 31 columns</p>\n",
       "</div>"
      ],
      "text/plain": [
       "  month  day  FFMC   DMC     DC  ISI  temp  RH  wind  rain  ...  monthfeb  \\\n",
       "0   mar  fri  86.2  26.2   94.3  5.1   8.2  51   6.7   0.0  ...         0   \n",
       "1   oct  tue  90.6  35.4  669.1  6.7  18.0  33   0.9   0.0  ...         0   \n",
       "2   oct  sat  90.6  43.7  686.9  6.7  14.6  33   1.3   0.0  ...         0   \n",
       "3   mar  fri  91.7  33.3   77.5  9.0   8.3  97   4.0   0.2  ...         0   \n",
       "4   mar  sun  89.3  51.3  102.2  9.6  11.4  99   1.8   0.0  ...         0   \n",
       "\n",
       "   monthjan  monthjul  monthjun  monthmar  monthmay  monthnov  monthoct  \\\n",
       "0         0         0         0         1         0         0         0   \n",
       "1         0         0         0         0         0         0         1   \n",
       "2         0         0         0         0         0         0         1   \n",
       "3         0         0         0         1         0         0         0   \n",
       "4         0         0         0         1         0         0         0   \n",
       "\n",
       "   monthsep  size_category  \n",
       "0         0          small  \n",
       "1         0          small  \n",
       "2         0          small  \n",
       "3         0          small  \n",
       "4         0          small  \n",
       "\n",
       "[5 rows x 31 columns]"
      ]
     },
     "execution_count": 2,
     "metadata": {},
     "output_type": "execute_result"
    }
   ],
   "source": [
    "#Loding data\n",
    "data = pd.read_csv('forestfires.csv')\n",
    "data.head() "
   ]
  },
  {
   "cell_type": "code",
   "execution_count": 3,
   "id": "599a2c85",
   "metadata": {
    "ExecuteTime": {
     "end_time": "2022-11-15T11:31:08.156262Z",
     "start_time": "2022-11-15T11:31:08.132343Z"
    }
   },
   "outputs": [
    {
     "data": {
      "text/html": [
       "<div>\n",
       "<style scoped>\n",
       "    .dataframe tbody tr th:only-of-type {\n",
       "        vertical-align: middle;\n",
       "    }\n",
       "\n",
       "    .dataframe tbody tr th {\n",
       "        vertical-align: top;\n",
       "    }\n",
       "\n",
       "    .dataframe thead th {\n",
       "        text-align: right;\n",
       "    }\n",
       "</style>\n",
       "<table border=\"1\" class=\"dataframe\">\n",
       "  <thead>\n",
       "    <tr style=\"text-align: right;\">\n",
       "      <th></th>\n",
       "      <th>month</th>\n",
       "      <th>day</th>\n",
       "      <th>FFMC</th>\n",
       "      <th>DMC</th>\n",
       "      <th>DC</th>\n",
       "      <th>ISI</th>\n",
       "      <th>temp</th>\n",
       "      <th>RH</th>\n",
       "      <th>wind</th>\n",
       "      <th>rain</th>\n",
       "      <th>area</th>\n",
       "      <th>size_category</th>\n",
       "    </tr>\n",
       "  </thead>\n",
       "  <tbody>\n",
       "    <tr>\n",
       "      <th>0</th>\n",
       "      <td>mar</td>\n",
       "      <td>fri</td>\n",
       "      <td>86.2</td>\n",
       "      <td>26.2</td>\n",
       "      <td>94.3</td>\n",
       "      <td>5.1</td>\n",
       "      <td>8.2</td>\n",
       "      <td>51</td>\n",
       "      <td>6.7</td>\n",
       "      <td>0.0</td>\n",
       "      <td>0.0</td>\n",
       "      <td>small</td>\n",
       "    </tr>\n",
       "    <tr>\n",
       "      <th>1</th>\n",
       "      <td>oct</td>\n",
       "      <td>tue</td>\n",
       "      <td>90.6</td>\n",
       "      <td>35.4</td>\n",
       "      <td>669.1</td>\n",
       "      <td>6.7</td>\n",
       "      <td>18.0</td>\n",
       "      <td>33</td>\n",
       "      <td>0.9</td>\n",
       "      <td>0.0</td>\n",
       "      <td>0.0</td>\n",
       "      <td>small</td>\n",
       "    </tr>\n",
       "    <tr>\n",
       "      <th>2</th>\n",
       "      <td>oct</td>\n",
       "      <td>sat</td>\n",
       "      <td>90.6</td>\n",
       "      <td>43.7</td>\n",
       "      <td>686.9</td>\n",
       "      <td>6.7</td>\n",
       "      <td>14.6</td>\n",
       "      <td>33</td>\n",
       "      <td>1.3</td>\n",
       "      <td>0.0</td>\n",
       "      <td>0.0</td>\n",
       "      <td>small</td>\n",
       "    </tr>\n",
       "    <tr>\n",
       "      <th>3</th>\n",
       "      <td>mar</td>\n",
       "      <td>fri</td>\n",
       "      <td>91.7</td>\n",
       "      <td>33.3</td>\n",
       "      <td>77.5</td>\n",
       "      <td>9.0</td>\n",
       "      <td>8.3</td>\n",
       "      <td>97</td>\n",
       "      <td>4.0</td>\n",
       "      <td>0.2</td>\n",
       "      <td>0.0</td>\n",
       "      <td>small</td>\n",
       "    </tr>\n",
       "    <tr>\n",
       "      <th>4</th>\n",
       "      <td>mar</td>\n",
       "      <td>sun</td>\n",
       "      <td>89.3</td>\n",
       "      <td>51.3</td>\n",
       "      <td>102.2</td>\n",
       "      <td>9.6</td>\n",
       "      <td>11.4</td>\n",
       "      <td>99</td>\n",
       "      <td>1.8</td>\n",
       "      <td>0.0</td>\n",
       "      <td>0.0</td>\n",
       "      <td>small</td>\n",
       "    </tr>\n",
       "  </tbody>\n",
       "</table>\n",
       "</div>"
      ],
      "text/plain": [
       "  month  day  FFMC   DMC     DC  ISI  temp  RH  wind  rain  area size_category\n",
       "0   mar  fri  86.2  26.2   94.3  5.1   8.2  51   6.7   0.0   0.0         small\n",
       "1   oct  tue  90.6  35.4  669.1  6.7  18.0  33   0.9   0.0   0.0         small\n",
       "2   oct  sat  90.6  43.7  686.9  6.7  14.6  33   1.3   0.0   0.0         small\n",
       "3   mar  fri  91.7  33.3   77.5  9.0   8.3  97   4.0   0.2   0.0         small\n",
       "4   mar  sun  89.3  51.3  102.2  9.6  11.4  99   1.8   0.0   0.0         small"
      ]
     },
     "execution_count": 3,
     "metadata": {},
     "output_type": "execute_result"
    }
   ],
   "source": [
    "# dropping encoded columns\n",
    "raw_data = data[['month', 'day','FFMC', 'DMC', 'DC', 'ISI', 'temp', 'RH', 'wind', 'rain', 'area', 'size_category' ]]\n",
    "raw_data.head()          "
   ]
  },
  {
   "cell_type": "code",
   "execution_count": 4,
   "id": "22f4c96d",
   "metadata": {
    "ExecuteTime": {
     "end_time": "2022-11-15T11:31:08.172326Z",
     "start_time": "2022-11-15T11:31:08.156262Z"
    }
   },
   "outputs": [
    {
     "name": "stdout",
     "output_type": "stream",
     "text": [
      "(517, 31)\n",
      "(517, 12)\n"
     ]
    }
   ],
   "source": [
    "print(data.shape)\n",
    "print(raw_data.shape) "
   ]
  },
  {
   "cell_type": "markdown",
   "id": "71000ec0",
   "metadata": {},
   "source": [
    "# Descriptive Statistics "
   ]
  },
  {
   "cell_type": "code",
   "execution_count": 5,
   "id": "b0b085f4",
   "metadata": {
    "ExecuteTime": {
     "end_time": "2022-11-15T11:31:08.188267Z",
     "start_time": "2022-11-15T11:31:08.172326Z"
    }
   },
   "outputs": [
    {
     "data": {
      "text/plain": [
       "0"
      ]
     },
     "execution_count": 5,
     "metadata": {},
     "output_type": "execute_result"
    }
   ],
   "source": [
    "raw_data.isna().sum().sum() "
   ]
  },
  {
   "cell_type": "code",
   "execution_count": 6,
   "id": "f824f495",
   "metadata": {
    "ExecuteTime": {
     "end_time": "2022-11-15T11:31:08.220417Z",
     "start_time": "2022-11-15T11:31:08.188267Z"
    }
   },
   "outputs": [
    {
     "data": {
      "text/html": [
       "<div>\n",
       "<style scoped>\n",
       "    .dataframe tbody tr th:only-of-type {\n",
       "        vertical-align: middle;\n",
       "    }\n",
       "\n",
       "    .dataframe tbody tr th {\n",
       "        vertical-align: top;\n",
       "    }\n",
       "\n",
       "    .dataframe thead th {\n",
       "        text-align: right;\n",
       "    }\n",
       "</style>\n",
       "<table border=\"1\" class=\"dataframe\">\n",
       "  <thead>\n",
       "    <tr style=\"text-align: right;\">\n",
       "      <th></th>\n",
       "      <th>FFMC</th>\n",
       "      <th>DMC</th>\n",
       "      <th>DC</th>\n",
       "      <th>ISI</th>\n",
       "      <th>temp</th>\n",
       "      <th>RH</th>\n",
       "      <th>wind</th>\n",
       "      <th>rain</th>\n",
       "      <th>area</th>\n",
       "    </tr>\n",
       "  </thead>\n",
       "  <tbody>\n",
       "    <tr>\n",
       "      <th>count</th>\n",
       "      <td>517.000000</td>\n",
       "      <td>517.000000</td>\n",
       "      <td>517.000000</td>\n",
       "      <td>517.000000</td>\n",
       "      <td>517.000000</td>\n",
       "      <td>517.000000</td>\n",
       "      <td>517.000000</td>\n",
       "      <td>517.000000</td>\n",
       "      <td>517.000000</td>\n",
       "    </tr>\n",
       "    <tr>\n",
       "      <th>mean</th>\n",
       "      <td>90.644681</td>\n",
       "      <td>110.872340</td>\n",
       "      <td>547.940039</td>\n",
       "      <td>9.021663</td>\n",
       "      <td>18.889168</td>\n",
       "      <td>44.288201</td>\n",
       "      <td>4.017602</td>\n",
       "      <td>0.021663</td>\n",
       "      <td>12.847292</td>\n",
       "    </tr>\n",
       "    <tr>\n",
       "      <th>std</th>\n",
       "      <td>5.520111</td>\n",
       "      <td>64.046482</td>\n",
       "      <td>248.066192</td>\n",
       "      <td>4.559477</td>\n",
       "      <td>5.806625</td>\n",
       "      <td>16.317469</td>\n",
       "      <td>1.791653</td>\n",
       "      <td>0.295959</td>\n",
       "      <td>63.655818</td>\n",
       "    </tr>\n",
       "    <tr>\n",
       "      <th>min</th>\n",
       "      <td>18.700000</td>\n",
       "      <td>1.100000</td>\n",
       "      <td>7.900000</td>\n",
       "      <td>0.000000</td>\n",
       "      <td>2.200000</td>\n",
       "      <td>15.000000</td>\n",
       "      <td>0.400000</td>\n",
       "      <td>0.000000</td>\n",
       "      <td>0.000000</td>\n",
       "    </tr>\n",
       "    <tr>\n",
       "      <th>25%</th>\n",
       "      <td>90.200000</td>\n",
       "      <td>68.600000</td>\n",
       "      <td>437.700000</td>\n",
       "      <td>6.500000</td>\n",
       "      <td>15.500000</td>\n",
       "      <td>33.000000</td>\n",
       "      <td>2.700000</td>\n",
       "      <td>0.000000</td>\n",
       "      <td>0.000000</td>\n",
       "    </tr>\n",
       "    <tr>\n",
       "      <th>50%</th>\n",
       "      <td>91.600000</td>\n",
       "      <td>108.300000</td>\n",
       "      <td>664.200000</td>\n",
       "      <td>8.400000</td>\n",
       "      <td>19.300000</td>\n",
       "      <td>42.000000</td>\n",
       "      <td>4.000000</td>\n",
       "      <td>0.000000</td>\n",
       "      <td>0.520000</td>\n",
       "    </tr>\n",
       "    <tr>\n",
       "      <th>75%</th>\n",
       "      <td>92.900000</td>\n",
       "      <td>142.400000</td>\n",
       "      <td>713.900000</td>\n",
       "      <td>10.800000</td>\n",
       "      <td>22.800000</td>\n",
       "      <td>53.000000</td>\n",
       "      <td>4.900000</td>\n",
       "      <td>0.000000</td>\n",
       "      <td>6.570000</td>\n",
       "    </tr>\n",
       "    <tr>\n",
       "      <th>max</th>\n",
       "      <td>96.200000</td>\n",
       "      <td>291.300000</td>\n",
       "      <td>860.600000</td>\n",
       "      <td>56.100000</td>\n",
       "      <td>33.300000</td>\n",
       "      <td>100.000000</td>\n",
       "      <td>9.400000</td>\n",
       "      <td>6.400000</td>\n",
       "      <td>1090.840000</td>\n",
       "    </tr>\n",
       "  </tbody>\n",
       "</table>\n",
       "</div>"
      ],
      "text/plain": [
       "             FFMC         DMC          DC         ISI        temp          RH  \\\n",
       "count  517.000000  517.000000  517.000000  517.000000  517.000000  517.000000   \n",
       "mean    90.644681  110.872340  547.940039    9.021663   18.889168   44.288201   \n",
       "std      5.520111   64.046482  248.066192    4.559477    5.806625   16.317469   \n",
       "min     18.700000    1.100000    7.900000    0.000000    2.200000   15.000000   \n",
       "25%     90.200000   68.600000  437.700000    6.500000   15.500000   33.000000   \n",
       "50%     91.600000  108.300000  664.200000    8.400000   19.300000   42.000000   \n",
       "75%     92.900000  142.400000  713.900000   10.800000   22.800000   53.000000   \n",
       "max     96.200000  291.300000  860.600000   56.100000   33.300000  100.000000   \n",
       "\n",
       "             wind        rain         area  \n",
       "count  517.000000  517.000000   517.000000  \n",
       "mean     4.017602    0.021663    12.847292  \n",
       "std      1.791653    0.295959    63.655818  \n",
       "min      0.400000    0.000000     0.000000  \n",
       "25%      2.700000    0.000000     0.000000  \n",
       "50%      4.000000    0.000000     0.520000  \n",
       "75%      4.900000    0.000000     6.570000  \n",
       "max      9.400000    6.400000  1090.840000  "
      ]
     },
     "execution_count": 6,
     "metadata": {},
     "output_type": "execute_result"
    }
   ],
   "source": [
    "raw_data.describe()"
   ]
  },
  {
   "cell_type": "code",
   "execution_count": 7,
   "id": "0a2ae33a",
   "metadata": {
    "ExecuteTime": {
     "end_time": "2022-11-15T11:31:08.252415Z",
     "start_time": "2022-11-15T11:31:08.220417Z"
    }
   },
   "outputs": [
    {
     "name": "stdout",
     "output_type": "stream",
     "text": [
      "<class 'pandas.core.frame.DataFrame'>\n",
      "RangeIndex: 517 entries, 0 to 516\n",
      "Data columns (total 12 columns):\n",
      " #   Column         Non-Null Count  Dtype  \n",
      "---  ------         --------------  -----  \n",
      " 0   month          517 non-null    object \n",
      " 1   day            517 non-null    object \n",
      " 2   FFMC           517 non-null    float64\n",
      " 3   DMC            517 non-null    float64\n",
      " 4   DC             517 non-null    float64\n",
      " 5   ISI            517 non-null    float64\n",
      " 6   temp           517 non-null    float64\n",
      " 7   RH             517 non-null    int64  \n",
      " 8   wind           517 non-null    float64\n",
      " 9   rain           517 non-null    float64\n",
      " 10  area           517 non-null    float64\n",
      " 11  size_category  517 non-null    object \n",
      "dtypes: float64(8), int64(1), object(3)\n",
      "memory usage: 48.6+ KB\n"
     ]
    }
   ],
   "source": [
    "raw_data.info()"
   ]
  },
  {
   "cell_type": "code",
   "execution_count": 8,
   "id": "acc2f0d5",
   "metadata": {
    "ExecuteTime": {
     "end_time": "2022-11-15T11:31:08.268436Z",
     "start_time": "2022-11-15T11:31:08.252415Z"
    }
   },
   "outputs": [
    {
     "name": "stdout",
     "output_type": "stream",
     "text": [
      "numeric features: ['FFMC', 'DMC', 'DC', 'ISI', 'temp', 'RH', 'wind', 'rain', 'area'] \n",
      "\n"
     ]
    }
   ],
   "source": [
    "#Numeric_variables\n",
    "\n",
    "numeric_features = [feature for feature in raw_data.columns if raw_data[feature].dtypes != 'O']\n",
    "print('numeric features:', numeric_features, '\\n') "
   ]
  },
  {
   "cell_type": "code",
   "execution_count": 9,
   "id": "35360f3e",
   "metadata": {
    "ExecuteTime": {
     "end_time": "2022-11-15T11:31:08.284416Z",
     "start_time": "2022-11-15T11:31:08.268436Z"
    }
   },
   "outputs": [
    {
     "name": "stdout",
     "output_type": "stream",
     "text": [
      "categorical_features: ['month', 'day', 'size_category']\n"
     ]
    }
   ],
   "source": [
    "#categorical_variables\n",
    "\n",
    "categorical_features = [feature for feature in raw_data.columns if raw_data[feature].dtypes == 'O']\n",
    "print('categorical_features:', categorical_features) "
   ]
  },
  {
   "cell_type": "code",
   "execution_count": 10,
   "id": "224255d2",
   "metadata": {
    "ExecuteTime": {
     "end_time": "2022-11-15T11:31:08.300516Z",
     "start_time": "2022-11-15T11:31:08.284416Z"
    }
   },
   "outputs": [
    {
     "data": {
      "text/plain": [
       "area    1.000000\n",
       "temp    0.097844\n",
       "DMC     0.072994\n",
       "DC      0.049383\n",
       "FFMC    0.040122\n",
       "wind    0.012317\n",
       "ISI     0.008258\n",
       "rain   -0.007366\n",
       "RH     -0.075519\n",
       "Name: area, dtype: float64"
      ]
     },
     "execution_count": 10,
     "metadata": {},
     "output_type": "execute_result"
    }
   ],
   "source": [
    "#Corrrelation\n",
    "\n",
    "raw_data.corr()['area'].sort_values(ascending=False) "
   ]
  },
  {
   "cell_type": "markdown",
   "id": "cf794e89",
   "metadata": {},
   "source": [
    "# Visualisation"
   ]
  },
  {
   "cell_type": "code",
   "execution_count": 11,
   "id": "e742b5fc",
   "metadata": {
    "ExecuteTime": {
     "end_time": "2022-11-15T11:31:09.851702Z",
     "start_time": "2022-11-15T11:31:08.300516Z"
    },
    "scrolled": false
   },
   "outputs": [
    {
     "data": {
      "image/png": "[encoded data removed]",
      "text/plain": [
       "<Figure size 1008x3600 with 9 Axes>"
      ]
     },
     "metadata": {
      "needs_background": "light"
     },
     "output_type": "display_data"
    }
   ],
   "source": [
    "# for numerical_features -- histogram\n",
    "fig, axes=plt.subplots(len(numeric_features),1,figsize=(14,50))\n",
    "\n",
    "for i in range (0, len(numeric_features)):\n",
    "    sns.histplot(data[numeric_features[i]],ax=axes[i])\n",
    "    "
   ]
  },
  {
   "cell_type": "code",
   "execution_count": 12,
   "id": "9c974144",
   "metadata": {
    "ExecuteTime": {
     "end_time": "2022-11-15T11:31:10.268812Z",
     "start_time": "2022-11-15T11:31:09.851702Z"
    }
   },
   "outputs": [
    {
     "data": {
      "image/png": "[encoded data removed]",
      "text/plain": [
       "<Figure size 1008x1800 with 9 Axes>"
      ]
     },
     "metadata": {
      "needs_background": "light"
     },
     "output_type": "display_data"
    }
   ],
   "source": [
    "# for outlier detection-- boxplot\n",
    "fig, axes=plt.subplots(len(numeric_features),1,figsize=(14,25))\n",
    "\n",
    "for i in range (0, len(numeric_features)):\n",
    "    sns.boxplot(data[numeric_features[i]],ax=axes[i])\n",
    "     "
   ]
  },
  {
   "cell_type": "code",
   "execution_count": 13,
   "id": "cfbe191e",
   "metadata": {
    "ExecuteTime": {
     "end_time": "2022-11-15T11:31:10.493792Z",
     "start_time": "2022-11-15T11:31:10.268812Z"
    }
   },
   "outputs": [
    {
     "data": {
      "image/png": "[encoded data removed]",
      "text/plain": [
       "<Figure size 1008x1080 with 3 Axes>"
      ]
     },
     "metadata": {
      "needs_background": "light"
     },
     "output_type": "display_data"
    }
   ],
   "source": [
    "# for categorical_features -- barplot\n",
    "fig, axes=plt.subplots(len(categorical_features),1,figsize=(14,15))\n",
    "\n",
    "for i in range (0, len(categorical_features)):\n",
    "    sns.countplot(raw_data[categorical_features[i]],ax=axes[i], order=raw_data[categorical_features[i]].value_counts().index)"
   ]
  },
  {
   "cell_type": "code",
   "execution_count": 14,
   "id": "66b7e928",
   "metadata": {
    "ExecuteTime": {
     "end_time": "2022-11-15T11:31:10.638311Z",
     "start_time": "2022-11-15T11:31:10.493792Z"
    }
   },
   "outputs": [
    {
     "data": {
      "text/plain": [
       "<AxesSubplot:>"
      ]
     },
     "execution_count": 14,
     "metadata": {},
     "output_type": "execute_result"
    },
    {
     "data": {
      "image/png": "[encoded data removed]",
      "text/plain": [
       "<Figure size 1008x432 with 1 Axes>"
      ]
     },
     "metadata": {
      "needs_background": "light"
     },
     "output_type": "display_data"
    }
   ],
   "source": [
    "#univariate analysis\n",
    "# 1) in absolute numbers\n",
    "df = pd.DataFrame()\n",
    "\n",
    "df['small'] = raw_data[raw_data['size_category'] == 'small']['month'].value_counts()\n",
    "df['large'] = raw_data[raw_data['size_category'] == 'large']['month'].value_counts()\n",
    "    \n",
    "df.plot.bar(figsize=(14,6))  "
   ]
  },
  {
   "cell_type": "code",
   "execution_count": 15,
   "id": "cc7b2a57",
   "metadata": {
    "ExecuteTime": {
     "end_time": "2022-11-15T11:31:10.782531Z",
     "start_time": "2022-11-15T11:31:10.638311Z"
    }
   },
   "outputs": [
    {
     "data": {
      "text/plain": [
       "<AxesSubplot:>"
      ]
     },
     "execution_count": 15,
     "metadata": {},
     "output_type": "execute_result"
    },
    {
     "data": {
      "image/png": "[encoded data removed]",
      "text/plain": [
       "<Figure size 1008x432 with 1 Axes>"
      ]
     },
     "metadata": {
      "needs_background": "light"
     },
     "output_type": "display_data"
    }
   ],
   "source": [
    "#2) in percentage\n",
    "df['small'] = raw_data[raw_data['size_category'] == 'small']['month'].value_counts(normalize=True)\n",
    "df['large'] = raw_data[raw_data['size_category'] == 'large']['month'].value_counts(normalize=True)\n",
    "    \n",
    "df.plot.bar(figsize=(14,6))  "
   ]
  },
  {
   "cell_type": "markdown",
   "id": "a85811ac",
   "metadata": {},
   "source": [
    "# Data Pre-Processing"
   ]
  },
  {
   "cell_type": "code",
   "execution_count": 16,
   "id": "452f8d5b",
   "metadata": {
    "ExecuteTime": {
     "end_time": "2022-11-15T11:31:10.798499Z",
     "start_time": "2022-11-15T11:31:10.782531Z"
    }
   },
   "outputs": [],
   "source": [
    "x = data.copy()\n",
    "x.drop('size_category',axis=1, inplace =True)\n",
    "\n",
    "y = data[['size_category']]"
   ]
  },
  {
   "cell_type": "code",
   "execution_count": 17,
   "id": "d6038af6",
   "metadata": {
    "ExecuteTime": {
     "end_time": "2022-11-15T11:31:10.808073Z",
     "start_time": "2022-11-15T11:31:10.798499Z"
    }
   },
   "outputs": [],
   "source": [
    "# encoding output \n",
    "le = LabelEncoder()\n",
    "y = le.fit_transform(y) \n",
    "\n",
    "# small : 1, large: 0 "
   ]
  },
  {
   "cell_type": "code",
   "execution_count": 18,
   "id": "20675a1b",
   "metadata": {
    "ExecuteTime": {
     "end_time": "2022-11-15T11:31:10.822612Z",
     "start_time": "2022-11-15T11:31:10.808073Z"
    }
   },
   "outputs": [],
   "source": [
    "#inputs are already encoded, just need to drop month and day columns\n",
    "x.drop(['month' , 'day'] , axis=1, inplace=True)  "
   ]
  },
  {
   "cell_type": "code",
   "execution_count": 19,
   "id": "79bb5d8a",
   "metadata": {
    "ExecuteTime": {
     "end_time": "2022-11-15T11:31:10.838734Z",
     "start_time": "2022-11-15T11:31:10.822612Z"
    }
   },
   "outputs": [],
   "source": [
    "x_train,x_test,y_train,y_test = train_test_split(x,y,test_size=0.3,random_state=9) "
   ]
  },
  {
   "cell_type": "code",
   "execution_count": 20,
   "id": "4d932029",
   "metadata": {
    "ExecuteTime": {
     "end_time": "2022-11-15T11:31:10.854721Z",
     "start_time": "2022-11-15T11:31:10.838734Z"
    }
   },
   "outputs": [
    {
     "name": "stdout",
     "output_type": "stream",
     "text": [
      "Shape of X_train:  (361, 28)\n",
      "Shape of X_test:  (156, 28)\n",
      "Shape of y_train:  (361,)\n",
      "Shape of y_test (156,)\n"
     ]
    }
   ],
   "source": [
    "print(\"Shape of X_train: \",x_train.shape)\n",
    "print(\"Shape of X_test: \", x_test.shape)\n",
    "print(\"Shape of y_train: \",y_train.shape)\n",
    "print(\"Shape of y_test\",y_test.shape)  "
   ]
  },
  {
   "cell_type": "markdown",
   "id": "bf9e24f3",
   "metadata": {},
   "source": [
    "## Models in Keras are\n",
    "    defined as a sequence of layers.\n",
    "We create a Sequential model and add layers one at a time Fully connected layers are defined using the Dense class.\n",
    "\n",
    "You can specify the number of neurons or nodes in the layer as the first argument and the activation function using the activation argument. input_shape = no. of input features Initializations define the way to set the initial random weights of Keras layers\n",
    "\n",
    "sigmoid on the output layer ensures your network output is between 0 and Linear on output layer ensures\n",
    "\n",
    "When compiling, you must specify some additional properties required when training the network. Remember training a network means finding the best set of weights to map inputs to outputs in your dataset.\n",
    "\n",
    "You must specify the loss function to use to evaluate a set of weights, the optimizer used to search through different weights for the network, and any optional metrics you want to collect and report during training.\n",
    "\n",
    "Regression Loss Functions Mean Squared Error Loss Mean Squared Logarithmic Error Loss Mean Absolute Error Loss\n",
    "\n",
    "Binary Classification Loss Functions Binary Cross-Entropy Hinge Loss Squared Hinge Loss\n",
    "\n",
    "Multi-Class Classification Loss Functions Multi-Class Cross-Entropy Loss Sparse Multiclass Cross-Entropy Loss Kullback Leibler Divergence Loss\n",
    "\n",
    "You can train or fit your model on your loaded data by calling the fit() function on the model. The training process will run for a fixed number of epochs (iterations) through the dataset that you must specify using the epochs argument. You must also set the number of dataset rows that are considered before the model weights are updated within each epoch, called the batch size, and set using the batch_size argument.\n",
    "\n",
    "The evaluate() function will return a list with two values. The first will be the loss of the model on the dataset, and the second will be the accuracy of the model on the dataset. You are only interested in reporting the accuracy so ignore the loss value."
   ]
  },
  {
   "cell_type": "markdown",
   "id": "7b2cb149",
   "metadata": {},
   "source": [
    "# Building Model for ANN "
   ]
  },
  {
   "cell_type": "code",
   "execution_count": 21,
   "id": "54594851",
   "metadata": {
    "ExecuteTime": {
     "end_time": "2022-11-15T11:31:10.982896Z",
     "start_time": "2022-11-15T11:31:10.854721Z"
    }
   },
   "outputs": [],
   "source": [
    "model = Sequential()\n",
    "model.add(Dense(32,input_dim=28,activation='relu'))\n",
    "model.add(Dense(64,activation='relu'))\n",
    "model.add(Dense(96,activation=\"relu\"))\n",
    "model.add(Dense(32,activation=\"relu\"))\n",
    "model.add(Dense(64,activation=\"relu\"))\n",
    "model.add(Dense(96,activation=\"relu\"))\n",
    "model.add(Dense(32,activation=\"relu\"))\n",
    "model.add(Dense(64,activation=\"relu\"))\n",
    "model.add(Dense(96,activation=\"relu\"))\n",
    "model.add(Dense(1,activation=\"sigmoid\")) "
   ]
  },
  {
   "cell_type": "code",
   "execution_count": 22,
   "id": "b439023b",
   "metadata": {
    "ExecuteTime": {
     "end_time": "2022-11-15T11:31:16.863393Z",
     "start_time": "2022-11-15T11:31:10.982896Z"
    },
    "scrolled": true
   },
   "outputs": [
    {
     "name": "stdout",
     "output_type": "stream",
     "text": [
      "Epoch 1/100\n",
      "Epoch 2/100\n",
      "Epoch 3/100\n",
      "Epoch 4/100\n",
      "Epoch 5/100\n",
      "Epoch 6/100\n",
      "Epoch 7/100\n",
      "Epoch 8/100\n",
      "Epoch 9/100\n",
      "Epoch 10/100\n",
      "Epoch 11/100\n",
      "Epoch 12/100\n",
      "Epoch 13/100\n",
      "Epoch 14/100\n",
      "Epoch 15/100\n",
      "Epoch 16/100\n",
      "Epoch 17/100\n",
      "Epoch 18/100\n",
      "Epoch 19/100\n",
      "Epoch 20/100\n",
      "Epoch 21/100\n",
      "Epoch 22/100\n",
      "Epoch 23/100\n",
      "Epoch 24/100\n",
      "Epoch 25/100\n",
      "Epoch 26/100\n",
      "Epoch 27/100\n",
      "Epoch 28/100\n",
      "Epoch 29/100\n",
      "Epoch 30/100\n",
      "Epoch 31/100\n",
      "Epoch 32/100\n",
      "Epoch 33/100\n",
      "Epoch 34/100\n",
      "Epoch 35/100\n",
      "Epoch 36/100\n",
      "Epoch 37/100\n",
      "Epoch 38/100\n",
      "Epoch 39/100\n",
      "Epoch 40/100\n",
      "Epoch 41/100\n",
      "Epoch 42/100\n",
      "Epoch 43/100\n",
      "Epoch 44/100\n",
      "Epoch 45/100\n",
      "Epoch 46/100\n",
      "Epoch 47/100\n",
      "Epoch 48/100\n",
      "Epoch 49/100\n",
      "Epoch 50/100\n",
      "Epoch 51/100\n",
      "Epoch 52/100\n",
      "Epoch 53/100\n",
      "Epoch 54/100\n",
      "Epoch 55/100\n",
      "Epoch 56/100\n",
      "Epoch 57/100\n",
      "Epoch 58/100\n",
      "Epoch 59/100\n",
      "Epoch 60/100\n",
      "Epoch 61/100\n",
      "Epoch 62/100\n",
      "Epoch 63/100\n",
      "Epoch 64/100\n",
      "Epoch 65/100\n",
      "Epoch 66/100\n",
      "Epoch 67/100\n",
      "Epoch 68/100\n",
      "Epoch 69/100\n",
      "Epoch 70/100\n",
      "Epoch 71/100\n",
      "Epoch 72/100\n",
      "Epoch 73/100\n",
      "Epoch 74/100\n",
      "Epoch 75/100\n",
      "Epoch 76/100\n",
      "Epoch 77/100\n",
      "Epoch 78/100\n",
      "Epoch 79/100\n",
      "Epoch 80/100\n",
      "Epoch 81/100\n",
      "Epoch 82/100\n",
      "Epoch 83/100\n",
      "Epoch 84/100\n",
      "Epoch 85/100\n",
      "Epoch 86/100\n",
      "Epoch 87/100\n",
      "Epoch 88/100\n",
      "Epoch 89/100\n",
      "Epoch 90/100\n",
      "Epoch 91/100\n",
      "Epoch 92/100\n",
      "Epoch 93/100\n",
      "Epoch 94/100\n",
      "Epoch 95/100\n",
      "Epoch 96/100\n",
      "Epoch 97/100\n",
      "Epoch 98/100\n",
      "Epoch 99/100\n",
      "Epoch 100/100\n"
     ]
    },
    {
     "data": {
      "text/plain": [
       "<keras.callbacks.History at 0x1f075440b20>"
      ]
     },
     "execution_count": 22,
     "metadata": {},
     "output_type": "execute_result"
    }
   ],
   "source": [
    "adam=Adam(learning_rate=0.001)\n",
    "\n",
    "model.compile(loss='binary_crossentropy',optimizer = adam,metrics=[\"accuracy\"])\n",
    "model.fit(x_train, y_train, batch_size=20, validation_split=0.3, epochs = 100, verbose=-1)\n"
   ]
  },
  {
   "cell_type": "code",
   "execution_count": 23,
   "id": "6ca56cf5",
   "metadata": {
    "ExecuteTime": {
     "end_time": "2022-11-15T11:31:17.039729Z",
     "start_time": "2022-11-15T11:31:16.863393Z"
    }
   },
   "outputs": [
    {
     "name": "stdout",
     "output_type": "stream",
     "text": [
      "5/5 [==============================] - 0s 0s/step\n"
     ]
    }
   ],
   "source": [
    "pred = model.predict(x_test) "
   ]
  },
  {
   "cell_type": "code",
   "execution_count": 24,
   "id": "be4a58c3",
   "metadata": {
    "ExecuteTime": {
     "end_time": "2022-11-15T11:31:17.055727Z",
     "start_time": "2022-11-15T11:31:17.039729Z"
    }
   },
   "outputs": [
    {
     "data": {
      "text/plain": [
       "array([[8.6126781e-01],\n",
       "       [2.2015249e-04],\n",
       "       [9.9984670e-01],\n",
       "       [9.9882895e-01],\n",
       "       [1.5311340e-18]], dtype=float32)"
      ]
     },
     "execution_count": 24,
     "metadata": {},
     "output_type": "execute_result"
    }
   ],
   "source": [
    "pred[:5] # model predicted output in the form of probability"
   ]
  },
  {
   "cell_type": "code",
   "execution_count": 26,
   "id": "50bcc389",
   "metadata": {
    "ExecuteTime": {
     "end_time": "2022-11-15T11:31:26.905554Z",
     "start_time": "2022-11-15T11:31:26.897464Z"
    }
   },
   "outputs": [],
   "source": [
    "predicted = []\n",
    "for i in range(0, len(pred)):\n",
    "    if pred[i]<0.5: #converting prob into 1 or 0\n",
    "        predicted.append(0)\n",
    "    else:\n",
    "        predicted.append(1)     "
   ]
  },
  {
   "cell_type": "code",
   "execution_count": 27,
   "id": "becfd756",
   "metadata": {
    "ExecuteTime": {
     "end_time": "2022-11-15T11:31:31.237163Z",
     "start_time": "2022-11-15T11:31:31.216138Z"
    }
   },
   "outputs": [
    {
     "name": "stdout",
     "output_type": "stream",
     "text": [
      "actual y is : [1 0 1 1 0] \n",
      " predicted y is: [1, 0, 1, 1, 0]\n"
     ]
    }
   ],
   "source": [
    "print('actual y is :', y_test[:5] ,'\\n', 'predicted y is:', predicted[:5]) "
   ]
  },
  {
   "cell_type": "code",
   "execution_count": 28,
   "id": "54bcf0a1",
   "metadata": {
    "ExecuteTime": {
     "end_time": "2022-11-15T11:31:35.095153Z",
     "start_time": "2022-11-15T11:31:35.079529Z"
    }
   },
   "outputs": [
    {
     "name": "stdout",
     "output_type": "stream",
     "text": [
      "Accuracy of model is: 0.9743589743589743\n"
     ]
    }
   ],
   "source": [
    "from sklearn.metrics import accuracy_score \n",
    "\n",
    "accuracy = accuracy_score(y_test, predicted)\n",
    "print('Accuracy of model is:', accuracy) "
   ]
  },
  {
   "cell_type": "code",
   "execution_count": 29,
   "id": "270cfca1",
   "metadata": {
    "ExecuteTime": {
     "end_time": "2022-11-15T11:31:36.963413Z",
     "start_time": "2022-11-15T11:31:36.939314Z"
    }
   },
   "outputs": [
    {
     "name": "stdout",
     "output_type": "stream",
     "text": [
      "              precision    recall  f1-score   support\n",
      "\n",
      "           0       0.96      0.96      0.96        45\n",
      "           1       0.98      0.98      0.98       111\n",
      "\n",
      "    accuracy                           0.97       156\n",
      "   macro avg       0.97      0.97      0.97       156\n",
      "weighted avg       0.97      0.97      0.97       156\n",
      "\n"
     ]
    }
   ],
   "source": [
    "from sklearn.metrics import confusion_matrix , classification_report\n",
    "print(classification_report(y_test, predicted))"
   ]
  },
  {
   "cell_type": "code",
   "execution_count": 30,
   "id": "d7404e2b",
   "metadata": {
    "ExecuteTime": {
     "end_time": "2022-11-15T11:31:42.198464Z",
     "start_time": "2022-11-15T11:31:42.102389Z"
    }
   },
   "outputs": [
    {
     "data": {
      "text/plain": [
       "<AxesSubplot:>"
      ]
     },
     "execution_count": 30,
     "metadata": {},
     "output_type": "execute_result"
    },
    {
     "data": {
      "image/png": "[encoded data removed]",
      "text/plain": [
       "<Figure size 432x288 with 2 Axes>"
      ]
     },
     "metadata": {
      "needs_background": "light"
     },
     "output_type": "display_data"
    }
   ],
   "source": [
    "sns.heatmap(confusion_matrix(y_test, predicted), annot=True, fmt='d')"
   ]
  },
  {
   "cell_type": "markdown",
   "id": "8b8c976c",
   "metadata": {},
   "source": [
    "# Thank You "
   ]
  }
 ],
 "metadata": {
  "kernelspec": {
   "display_name": "Python 3 (ipykernel)",
   "language": "python",
   "name": "python3"
  },
  "language_info": {
   "codemirror_mode": {
    "name": "ipython",
    "version": 3
   },
   "file_extension": ".py",
   "mimetype": "text/x-python",
   "name": "python",
   "nbconvert_exporter": "python",
   "pygments_lexer": "ipython3",
   "version": "3.9.12"
  }
 },
 "nbformat": 4,
 "nbformat_minor": 5
}
